{
  "nbformat": 4,
  "nbformat_minor": 0,
  "metadata": {
    "colab": {
      "provenance": []
    },
    "kernelspec": {
      "name": "python3",
      "display_name": "Python 3"
    },
    "language_info": {
      "name": "python"
    }
  },
  "cells": [
    {
      "cell_type": "markdown",
      "source": [
        "1. This is a class variable. It has been shared between every instance of the Counter class. Any significant change to the Counter.Count will be reflected across all instances of the class because there is only one copy of this variable, which is accessed by the class itself and by all instances.\n",
        "self._count: This is an instance variable. Each instance of the Counter class has its own separate copy of self._count. Changes to self._count only affect the specific instance in which the change is made.\n",
        "\n",
        "2.\n",
        "\n",
        "When a = Counter() is called, an instance a is created with self._count = 0.\n",
        "When b = Counter() is called, another instance b is created with self._count = 0.\n",
        "Calling a.increment() twice increments a._count to 2 and Counter.count to 2.\n",
        "Calling b.increment() once increments b._count to 1 and Counter.count to 3.\n",
        "Now, a.get_counts() will return \"Instance count: 2, Class count: 3\", and b.get_counts() will return \"Instance count: 1, Class count: 3\".\n",
        "\n",
        "3.\n",
        "The increment method increases the instance variable self._count by 1, affecting only the specific instance on which the method is called.\n",
        "The method also increases the class variable Counter.count by 1, affecting all instances of the class, as this variable is shared among them.\n",
        "\n",
        "\n",
        "\n"
      ],
      "metadata": {
        "id": "j3O1FGmVxjCW"
      }
    },
    {
      "cell_type": "code",
      "source": [
        "# Mount Google Drive\n",
        "from google.colab import drive\n",
        "drive.mount('/content/drive')"
      ],
      "metadata": {
        "colab": {
          "base_uri": "https://localhost:8080/"
        },
        "id": "p_luk00t1IaK",
        "outputId": "ef9c968e-c642-4e25-8df4-f200d0cf1497"
      },
      "execution_count": null,
      "outputs": [
        {
          "output_type": "stream",
          "name": "stdout",
          "text": [
            "Mounted at /content/drive\n"
          ]
        }
      ]
    },
    {
      "cell_type": "code",
      "source": [
        "def first_word(words):\n",
        "    # Sort the list in alphabetical order\n",
        "    sorted_words = sorted(words)\n",
        "\n",
        "    # Return the first element in the sorted list\n",
        "    return sorted_words[0]\n",
        "\n",
        "# Example usage\n",
        "students = ['Mary', 'Zelda', 'Jimmy', 'Jack', 'Bartholomew', 'Gertrude']\n",
        "print(first_word(students))  # Output: 'Bartholomew'\n"
      ],
      "metadata": {
        "colab": {
          "base_uri": "https://localhost:8080/"
        },
        "id": "ZYU8I98lDgPB",
        "outputId": "791a8252-fe27-4506-838c-d8cf5b535b56"
      },
      "execution_count": 39,
      "outputs": [
        {
          "output_type": "stream",
          "name": "stdout",
          "text": [
            "Bartholomew\n"
          ]
        }
      ]
    },
    {
      "cell_type": "code",
      "source": [
        "class Employee:\n",
        "    # Class-level attribute to count the number of Employees\n",
        "    emp_count = 0\n",
        "    total_salary = 0  # To keep track of the total salary for averaging\n",
        "\n",
        "    def __init__(self, name, family, salary, department):\n",
        "        self.name = name\n",
        "        self.family = family\n",
        "        self.salary = salary\n",
        "        self.department = department\n",
        "\n",
        "        # Update the class-level attribute for employee count and total salary\n",
        "        Employee.emp_count += 1\n",
        "        Employee.total_salary += salary\n",
        "\n",
        "    @classmethod\n",
        "    def average_salary(cls):\n",
        "        if cls.emp_count == 0:\n",
        "            return 0\n",
        "        return cls.total_salary / cls.emp_count\n",
        "\n",
        "    def display_info(self):\n",
        "        return f\"Name: {self.name}, Family: {self.family}, Salary: {self.salary}, Department: {self.department}\"\n",
        "\n",
        "class FulltimeEmployee(Employee):\n",
        "    def __init__(self, name, family, salary, department, benefits):\n",
        "        super().__init__(name, family, salary, department)\n",
        "        self.benefits = benefits  # Additional attribute for FulltimeEmployee\n",
        "\n",
        "    def display_info(self):\n",
        "        # Include benefits in the display info\n",
        "        basic_info = super().display_info()\n",
        "        return f\"{basic_info}, Benefits: {self.benefits}\"\n",
        "\n",
        "# Creating instances of Employee and FulltimeEmployee\n",
        "e1 = Employee(\"John Doe\", \"Smith\", 50000, \"Engineering\")\n",
        "e2 = Employee(\"Jane Roe\", \"Doe\", 60000, \"Marketing\")\n",
        "ft1 = FulltimeEmployee(\"Alice Johnson\", \"Brown\", 70000, \"HR\", \"Health Insurance\")\n",
        "\n",
        "# Calling member functions and displaying results\n",
        "print(e1.display_info())\n",
        "print(e2.display_info())\n",
        "print(ft1.display_info())\n",
        "\n",
        "# Display average salary\n",
        "print(f\"Average Salary: {Employee.average_salary()}\")\n"
      ],
      "metadata": {
        "colab": {
          "base_uri": "https://localhost:8080/"
        },
        "id": "ZqGVmmfmDrs0",
        "outputId": "15eaf46a-cdd0-44ed-b72b-4c5591df5ee8"
      },
      "execution_count": 41,
      "outputs": [
        {
          "output_type": "stream",
          "name": "stdout",
          "text": [
            "Name: John Doe, Family: Smith, Salary: 50000, Department: Engineering\n",
            "Name: Jane Roe, Family: Doe, Salary: 60000, Department: Marketing\n",
            "Name: Alice Johnson, Family: Brown, Salary: 70000, Department: HR, Benefits: Health Insurance\n",
            "Average Salary: 60000.0\n"
          ]
        }
      ]
    },
    {
      "cell_type": "code",
      "source": [
        "# This will overwrite the built-in sum function\n",
        "def sum(*args):\n",
        "\n",
        "    pass\n",
        "\n",
        "def sum_all(*args):\n",
        "    return sum(args)\n",
        "\n",
        "print(\"Sum of 1, 2, 3 is:\", sum_all(1, 2, 3))\n",
        "print(\"Sum of 4, 5, 6, 7 is:\", sum_all(4, 5, 6, 7))\n"
      ],
      "metadata": {
        "colab": {
          "base_uri": "https://localhost:8080/"
        },
        "id": "A8DnqsBOBnh-",
        "outputId": "8d1a74c4-7976-47df-f67b-9a06a0ce0004"
      },
      "execution_count": 38,
      "outputs": [
        {
          "output_type": "stream",
          "name": "stdout",
          "text": [
            "Sum of 1, 2, 3 is: None\n",
            "Sum of 4, 5, 6, 7 is: None\n"
          ]
        }
      ]
    }
  ]
}