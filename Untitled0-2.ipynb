{
  "nbformat": 4,
  "nbformat_minor": 0,
  "metadata": {
    "colab": {
      "provenance": []
    },
    "kernelspec": {
      "name": "python3",
      "display_name": "Python 3"
    },
    "language_info": {
      "name": "python"
    }
  },
  "cells": [
    {
      "cell_type": "code",
      "source": [
        "\n",
        "input_str = input(\"Enter a string: \")\n",
        "char_list = list(input_str)\n",
        "del char_list[1:3]\n",
        "reversed_list = char_list[::-1]\n",
        "result_str = ''.join(reversed_list)\n",
        "print(result_str)\n"
      ],
      "metadata": {
        "id": "1RBOHgHt_aGb",
        "colab": {
          "base_uri": "https://localhost:8080/"
        },
        "outputId": "032a0234-24b5-492b-8dbc-8b58e55df218"
      },
      "execution_count": null,
      "outputs": [
        {
          "output_type": "stream",
          "name": "stdout",
          "text": [
            "Enter a string: python\n",
            "nohp\n"
          ]
        }
      ]
    },
    {
      "cell_type": "code",
      "source": [
        "# Input two numbers from user\n",
        "num1 = float(input(\"Enter the first number: \"))\n",
        "num2 = float(input(\"Enter the second number: \"))\n",
        "# Perform arithmetic operations\n",
        "addition = num1 + num2\n",
        "subtraction = num1 - num2\n",
        "multiplication = num1 * num2\n",
        "division = num1 / num2 if num2 != 0 else \"Division by zero is not allowed\"\n",
        "print(f\"Addition: {addition}\")\n",
        "print(f\"Subtraction: {subtraction}\")\n",
        "print(f\"Multiplication: {multiplication}\")\n",
        "print(f\"Division: {division}\")\n",
        "\n"
      ],
      "metadata": {
        "colab": {
          "base_uri": "https://localhost:8080/"
        },
        "id": "CUqTd7yXrBdl",
        "outputId": "1e5f6ab9-db36-48ac-eae0-4fbf56397289"
      },
      "execution_count": null,
      "outputs": [
        {
          "output_type": "stream",
          "name": "stdout",
          "text": [
            "Enter the first number: 11\n",
            "Enter the second number: 12\n",
            "Addition: 23.0\n",
            "Subtraction: -1.0\n",
            "Multiplication: 132.0\n",
            "Division: 0.9166666666666666\n"
          ]
        }
      ]
    },
    {
      "cell_type": "code",
      "source": [
        "# Input a sentence from user\n",
        "sentence = input(\"Enter a sentence: \")\n",
        "# Replace 'python' with 'pythons'\n",
        "modified_sentence = sentence.replace('python', 'pythons')\n",
        "print(modified_sentence)\n"
      ],
      "metadata": {
        "colab": {
          "base_uri": "https://localhost:8080/"
        },
        "id": "Rf1m9UvXrXAF",
        "outputId": "b02b301d-0e22-4e18-deef-4c8d99c89d05"
      },
      "execution_count": null,
      "outputs": [
        {
          "output_type": "stream",
          "name": "stdout",
          "text": [
            "Enter a sentence: I love python\n",
            "I love pythons\n"
          ]
        }
      ]
    },
    {
      "cell_type": "code",
      "source": [
        "# Input score from user\n",
        "score = float(input(\"Enter the score: \"))\n",
        "# Determine the grade\n",
        "if score >= 90:\n",
        "    grade = 'A'\n",
        "elif score >= 80:\n",
        "    grade = 'B'\n",
        "elif score >= 70:\n",
        "    grade = 'C'\n",
        "elif score >= 60:\n",
        "    grade = 'D'\n",
        "else:\n",
        "    grade = 'F'\n",
        "print(f\"The grade is: {grade}\")\n"
      ],
      "metadata": {
        "colab": {
          "base_uri": "https://localhost:8080/"
        },
        "id": "3YxRdU1jrf6p",
        "outputId": "92cfcda4-7c66-405c-dea4-cf0d0b52e1d3"
      },
      "execution_count": null,
      "outputs": [
        {
          "output_type": "stream",
          "name": "stdout",
          "text": [
            "Enter the score: 87\n",
            "The grade is: B\n"
          ]
        }
      ]
    },
    {
      "cell_type": "code",
      "source": [
        "x = [23, 'Python', 23.98]\n",
        "# Create a list of types of elements\n",
        "types_list = [type(element) for element in x]\n",
        "print(x)\n",
        "print(types_list)\n"
      ],
      "metadata": {
        "colab": {
          "base_uri": "https://localhost:8080/"
        },
        "id": "YX40IP6prlAQ",
        "outputId": "044fcf8c-a92b-4c3b-9356-84000d1ce4ed"
      },
      "execution_count": null,
      "outputs": [
        {
          "output_type": "stream",
          "name": "stdout",
          "text": [
            "[23, 'Python', 23.98]\n",
            "[<class 'int'>, <class 'str'>, <class 'float'>]\n"
          ]
        }
      ]
    },
    {
      "cell_type": "code",
      "source": [
        "# Define the sets and list\n",
        "IT_companies = {'Facebook', 'Google', 'Microsoft', 'Apple', 'IBM', 'Oracle', 'Amazon'}\n",
        "A = {19, 22, 24, 20, 25, 26}\n",
        "B = {19, 22, 20, 25, 26, 24, 28, 27}\n",
        "age = [22, 19, 24, 25, 26, 24, 25, 24]\n",
        "# Find the length of the set IT_companies\n",
        "print(\"Length of IT_companies:\", len(IT_companies))\n",
        "# Add 'Twitter' to IT_companies\n",
        "IT_companies.add('Twitter')\n",
        "print(\"IT_companies after adding 'Twitter':\", IT_companies)\n",
        "# Insert multiple IT companies at once\n",
        "IT_companies.update({'LinkedIn', 'Snapchat'})\n",
        "print(\"IT_companies after adding more companies:\", IT_companies)\n",
        "# Remove one of the companies from IT_companies\n",
        "IT_companies.remove('Apple')\n",
        "print(\"IT_companies after removing 'Apple':\", IT_companies)\n",
        "# Difference between remove and discard\n",
        "# 'remove' will raise a KeyError if the item is not found\n",
        "# 'discard' will not raise an error if the item is not found\n",
        "# Join A and B\n",
        "joined_set = A.union(B)\n",
        "print(\"Joined A and B:\", joined_set)\n",
        "# Find A intersection B\n",
        "intersection = A.intersection(B)\n",
        "print(\"Intersection of A and B:\", intersection)\n",
        "# Check if A is a subset of B\n",
        "is_subset = A.issubset(B)\n",
        "print(\"Is A a subset of B?\", is_subset)\n",
        "# Check if A and B are disjoint sets\n",
        "are_disjoint = A.isdisjoint(B)\n",
        "print(\"Are A and B disjoint sets?\", are_disjoint)\n",
        "# Join A with B and B with A\n",
        "A.update(B)\n",
        "B.update(A)\n",
        "print(\"A after joining with B:\", A)\n",
        "print(\"B after joining with A:\", B)\n",
        "# Symmetric difference between A and B\n",
        "symmetric_difference = A.symmetric_difference(B)\n",
        "print(\"Symmetric difference between A and B:\", symmetric_difference)\n",
        "# Delete the sets completely\n",
        "del A\n",
        "del B\n",
        "# Convert the ages to a set and compare the length of the list and the set\n",
        "age_set = set(age)\n",
        "print(\"Length of the list:\", len(age))\n",
        "print(\"Length of the set:\", len(age_set))\n"
      ],
      "metadata": {
        "colab": {
          "base_uri": "https://localhost:8080/"
        },
        "id": "Oha8fF1erqvO",
        "outputId": "9db5d9b2-3815-4fb9-8b8d-5a9e22d94c6d"
      },
      "execution_count": null,
      "outputs": [
        {
          "output_type": "stream",
          "name": "stdout",
          "text": [
            "Length of IT_companies: 7\n",
            "IT_companies after adding 'Twitter': {'Facebook', 'Apple', 'Google', 'Twitter', 'Amazon', 'IBM', 'Oracle', 'Microsoft'}\n",
            "IT_companies after adding more companies: {'Facebook', 'Apple', 'Snapchat', 'Twitter', 'Microsoft', 'Oracle', 'Google', 'LinkedIn', 'Amazon', 'IBM'}\n",
            "IT_companies after removing 'Apple': {'Facebook', 'Snapchat', 'Twitter', 'Microsoft', 'Oracle', 'Google', 'LinkedIn', 'Amazon', 'IBM'}\n",
            "Joined A and B: {19, 20, 22, 24, 25, 26, 27, 28}\n",
            "Intersection of A and B: {19, 20, 22, 24, 25, 26}\n",
            "Is A a subset of B? True\n",
            "Are A and B disjoint sets? False\n",
            "A after joining with B: {19, 20, 22, 24, 25, 26, 27, 28}\n",
            "B after joining with A: {19, 20, 22, 24, 25, 26, 27, 28}\n",
            "Symmetric difference between A and B: set()\n",
            "Length of the list: 8\n",
            "Length of the set: 5\n"
          ]
        }
      ]
    }
  ]
}